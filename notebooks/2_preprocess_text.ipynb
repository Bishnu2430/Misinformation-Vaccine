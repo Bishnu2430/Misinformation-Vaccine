{
 "cells": [
  {
   "cell_type": "code",
   "execution_count": 1,
   "id": "dcf7f639",
   "metadata": {},
   "outputs": [
    {
     "name": "stderr",
     "output_type": "stream",
     "text": [
      "[nltk_data] Downloading package stopwords to\n",
      "[nltk_data]     C:\\Users\\karbi\\AppData\\Roaming\\nltk_data...\n",
      "[nltk_data]   Unzipping corpora\\stopwords.zip.\n"
     ]
    }
   ],
   "source": [
    "import os\n",
    "import json\n",
    "import pandas as pd\n",
    "import numpy as np\n",
    "import tensorflow as tf\n",
    "from sklearn.model_selection import train_test_split\n",
    "import matplotlib.pyplot as plt\n",
    "import re\n",
    "import nltk\n",
    "from nltk.corpus import stopwords\n",
    "from tensorflow.keras.preprocessing.text import Tokenizer\n",
    "from tensorflow.keras.preprocessing.sequence import pad_sequences\n",
    "from tensorflow.keras.preprocessing.image import ImageDataGenerator\n",
    "from PIL import Image\n",
    "\n",
    "nltk.download('stopwords')\n",
    "stop_words = set(stopwords.words('english'))\n"
   ]
  },
  {
   "cell_type": "code",
   "execution_count": 2,
   "id": "4d177ad4",
   "metadata": {},
   "outputs": [
    {
     "name": "stdout",
     "output_type": "stream",
     "text": [
      "                                               title  \\\n",
      "0  Ben Stein Calls Out 9th Circuit Court: Committ...   \n",
      "1  Trump drops Steve Bannon from National Securit...   \n",
      "2  Puerto Rico expects U.S. to lift Jones Act shi...   \n",
      "3   OOPS: Trump Just Accidentally Confirmed He Le...   \n",
      "4  Donald Trump heads for Scotland to reopen a go...   \n",
      "\n",
      "                                                text       subject  \\\n",
      "0  21st Century Wire says Ben Stein, reputable pr...       US_News   \n",
      "1  WASHINGTON (Reuters) - U.S. President Donald T...  politicsNews   \n",
      "2  (Reuters) - Puerto Rico Governor Ricardo Rosse...  politicsNews   \n",
      "3  On Monday, Donald Trump once again embarrassed...          News   \n",
      "4  GLASGOW, Scotland (Reuters) - Most U.S. presid...  politicsNews   \n",
      "\n",
      "                  date  label  \n",
      "0    February 13, 2017      0  \n",
      "1       April 5, 2017       1  \n",
      "2  September 27, 2017       1  \n",
      "3         May 22, 2017      0  \n",
      "4       June 24, 2016       1  \n"
     ]
    }
   ],
   "source": [
    "fake_path = \"../data/datasets/fake-and-real-news-dataset/Fake.csv\"\n",
    "true_path = \"../data/datasets/fake-and-real-news-dataset/True.csv\"\n",
    "\n",
    "fake_df = pd.read_csv(fake_path)\n",
    "true_df = pd.read_csv(true_path)\n",
    "\n",
    "fake_df['label'] = 0\n",
    "true_df['label'] = 1\n",
    "\n",
    "news_df = pd.concat([fake_df, true_df], ignore_index=True)\n",
    "news_df = news_df.sample(frac=1, random_state=42).reset_index(drop=True)\n",
    "\n",
    "print(news_df.head())\n"
   ]
  },
  {
   "cell_type": "code",
   "execution_count": 3,
   "id": "57b202a5",
   "metadata": {},
   "outputs": [],
   "source": [
    "def clean_text(text):\n",
    "    text = str(text).lower()\n",
    "    text = re.sub(r'http\\S+|www\\S+', '', text)\n",
    "    text = re.sub(r'[^a-z\\s]', '', text)\n",
    "    text = ' '.join([word for word in text.split() if word not in stop_words])\n",
    "    return text\n",
    "\n",
    "news_df['clean_text'] = news_df['text'].apply(clean_text)\n"
   ]
  },
  {
   "cell_type": "code",
   "execution_count": 4,
   "id": "6ca3974e",
   "metadata": {},
   "outputs": [],
   "source": [
    "tokenizer = Tokenizer(num_words=20000, oov_token=\"<OOV>\")\n",
    "tokenizer.fit_on_texts(news_df['clean_text'])\n",
    "\n",
    "sequences = tokenizer.texts_to_sequences(news_df['clean_text'])\n",
    "padded = pad_sequences(sequences, maxlen=300, padding='post', truncating='post')\n",
    "\n",
    "X_text = padded\n",
    "y_text = news_df['label'].values\n",
    "\n",
    "X_train_text, X_val_text, y_train_text, y_val_text = train_test_split(X_text, y_text, test_size=0.2, random_state=42)\n"
   ]
  },
  {
   "cell_type": "code",
   "execution_count": 5,
   "id": "22a31f54",
   "metadata": {},
   "outputs": [
    {
     "name": "stdout",
     "output_type": "stream",
     "text": [
      "Loaded 4000 multimodal samples\n"
     ]
    }
   ],
   "source": [
    "fakeddit_dir = \"../data/datasets/fakeddit_subset/fakeddit_subset\"\n",
    "train_json = os.path.join(fakeddit_dir, \"training_data_fakeddit.jsonl\")\n",
    "\n",
    "image_text_data = []\n",
    "\n",
    "with open(train_json, 'r', encoding='utf-8') as f:\n",
    "    for line in f:\n",
    "        entry = json.loads(line)\n",
    "        text = entry[\"contents\"][0][\"parts\"][1][\"text\"]\n",
    "        image_uri = entry[\"contents\"][0][\"parts\"][0][\"fileData\"][\"fileUri\"]\n",
    "        label = entry[\"contents\"][1][\"parts\"][0][\"text\"]\n",
    "        label = 1 if label.strip().lower() == \"yes\" else 0\n",
    "        \n",
    "        local_image = image_uri.replace(\"gs://my_trial_bucket_finetune\", fakeddit_dir)\n",
    "        if os.path.exists(local_image):\n",
    "            image_text_data.append((text, local_image, label))\n",
    "\n",
    "print(f\"Loaded {len(image_text_data)} multimodal samples\")\n"
   ]
  },
  {
   "cell_type": "code",
   "execution_count": 6,
   "id": "f9070c25",
   "metadata": {},
   "outputs": [],
   "source": [
    "datagen = ImageDataGenerator(rescale=1./255, validation_split=0.2)\n",
    "\n",
    "# Create TensorFlow-ready generator later in model training phase\n",
    "def load_and_preprocess_image(path, target_size=(224, 224)):\n",
    "    try:\n",
    "        img = Image.open(path).convert('RGB').resize(target_size)\n",
    "        return np.array(img) / 255.0\n",
    "    except:\n",
    "        return None\n"
   ]
  },
  {
   "cell_type": "code",
   "execution_count": 8,
   "id": "c0cd5ded",
   "metadata": {},
   "outputs": [],
   "source": [
    "import os\n",
    "\n",
    "os.makedirs(\"../data/processed\", exist_ok=True)\n"
   ]
  },
  {
   "cell_type": "code",
   "execution_count": 10,
   "id": "6459e065",
   "metadata": {},
   "outputs": [],
   "source": [
    "import random\n",
    "\n",
    "np.savez_compressed(\"../data/processed/news_text_data.npz\", \n",
    "                    X_train=X_train_text, X_val=X_val_text, \n",
    "                    y_train=y_train_text, y_val=y_val_text)\n",
    "\n",
    "# Save a smaller subset of multimodal for prototyping\n",
    "subset = random.sample(image_text_data, min(1000, len(image_text_data)))\n",
    "pd.DataFrame(subset, columns=[\"text\", \"image_path\", \"label\"]).to_csv(\n",
    "    \"../data/processed/fakeddit_sample.csv\", index=False\n",
    ")\n"
   ]
  }
 ],
 "metadata": {
  "kernelspec": {
   "display_name": "base",
   "language": "python",
   "name": "python3"
  },
  "language_info": {
   "codemirror_mode": {
    "name": "ipython",
    "version": 3
   },
   "file_extension": ".py",
   "mimetype": "text/x-python",
   "name": "python",
   "nbconvert_exporter": "python",
   "pygments_lexer": "ipython3",
   "version": "3.13.5"
  }
 },
 "nbformat": 4,
 "nbformat_minor": 5
}
